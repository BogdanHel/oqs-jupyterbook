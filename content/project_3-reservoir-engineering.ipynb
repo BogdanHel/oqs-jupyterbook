{
 "cells": [
  {
   "cell_type": "markdown",
   "metadata": {},
   "source": [
    "## Project 3: Markovian reservoir engineering"
   ]
  },
  {
   "cell_type": "markdown",
   "metadata": {},
   "source": [
    "For decades, noise induced by the environment has been considered the archetype enemy of quantum technologies. This is because very often the interaction between a quantum system and its surroundings leads to the fast disappearance of quantum properties, notoriously coherences and entanglement, playing a key role in providing quantum advantage.\n",
    "This point of view drastically changed as soon as physicists demonstrated that appropriate manipulation of an artificial environment (quantum reservoir engineering) would allow one to steer the open system towards, e.g., a maximally entangled state [[J. T. Barreiro, et al., Nature 470, 486 (2011)](https://doi.org/10.1038/nature09801),[ J. T. Barreiro et al., Nat. Phys. 6, 943 (2010)](https://doi.org/10.1038/nphys1781)], hence turning upside down the perspective of the environment as an enemy. \n",
    "\n",
    "Following the lines of [J. T. Barreiro, et al., Nature 470, 486 (2011)](https://doi.org/10.1038/nature09801), we experimentally simulate a semigroup Markovian master equation for a two-qubit open system having as asymptotic stationary state the Bell state $|\\psi^- \\rangle = \\frac{1}{\\sqrt{2} }(|01\\rangle - |10\\rangle)$, where we indicate with $|0\\rangle$ and $|1\\rangle$ the computational basis of each qubit and we use the notation $| 01\\rangle = |0\\rangle_1 |1\\rangle _2$. This allows us to prepare a maximally entangled state as a result of the dissipative open system dynamics."
   ]
  },
  {
   "cell_type": "markdown",
   "metadata": {},
   "source": [
    "The four Bell states are:\n",
    "\n",
    "\\begin{align}\n",
    "|\\psi^- \\rangle = \\frac{1}{\\sqrt{2} }(|01\\rangle - |10\\rangle) \\\\\n",
    "|\\psi^+ \\rangle = \\frac{1}{\\sqrt{2} }(|01\\rangle + |10\\rangle) \\\\\n",
    "|\\phi^- \\rangle = \\frac{1}{\\sqrt{2} }(|00\\rangle - |11\\rangle)  \\\\\n",
    "|\\phi^+ \\rangle = \\frac{1}{\\sqrt{2} }(|00\\rangle + |11\\rangle) \n",
    "\\end{align}\n",
    "\n",
    "Each of them is uniquely determined as an eigenstate with eigenvalues $\\pm1$ with respect to $\\sigma_z^{(1)} \\otimes \\sigma_z^{(2)}$ and  $\\sigma_x^{(1)}\\otimes\\sigma_x^{(2)}$, where $\\sigma_x^{(i)}$ and $\\sigma_z^{(i)}$, with $i=1,2$, are the $x$ and $z$ Pauli operators of qubit 1 and 2."
   ]
  },
  {
   "cell_type": "markdown",
   "metadata": {},
   "source": [
    "The dissipative dynamics that pumps two qubits from an arbitrary initial state into the Bell state $|\\psi^- \\rangle $ is realised by the composition of two channels that pump from\n",
    "the $+1$ into the $-1$ eigenspaces of the stabiliser operators $\\sigma_z^{(1)} \\otimes \\sigma_z^{(2)}$ and  $\\sigma_x^{(1)} \\otimes \\sigma_x^{(2)}$. "
   ]
  },
  {
   "cell_type": "markdown",
   "metadata": {},
   "source": [
    "Specifically, we consider the two $p$-parametrised families of CPTP maps $\\Phi_{zz} \\rho_S = E_{1z}  \\rho_S  E_{1z}^{\\dagger} + E_{2z}  \\rho_S  E_{2z}^{\\dagger} $, with \n",
    "\n",
    "\\begin{equation}\n",
    "\\begin{aligned}\n",
    "E_{1z} &=\\sqrt{p} \\mathbb{I}^{(1)} \\otimes \\sigma_x^{(2)} \\frac{1}{2}\\left( \\mathbb{I}+ \\sigma_z^{(1)} \\otimes \\sigma_z^{(2)} \\right), \\\\\n",
    "E_{2z}  &= \\frac{1}{2} \\left( \\mathbb{I}-\\sigma_z^{(1)}\\otimes\\sigma_z^{(2)} \\right) \\\\\n",
    "&+ \\sqrt{1-p} \\frac{1}{2} \\left( \\mathbb{I}+ \\sigma_z^{(1)}\\otimes\\sigma_z^{(2)} \\right),\n",
    "\\end{aligned}\n",
    "\\end{equation}\n",
    "\n",
    "and $\\Phi_{xx}\\rho_S = E_{1x}  \\rho_S  E_{1x}^{\\dagger} + E_{2x}  \\rho_S  E_{2x}^{\\dagger} $, where $E_{1x}$ and $E_{2x}$ have the same form of  $E_{1z}$ and $E_{2z}$ in equations, provided that we replace $\\sigma_x^{(2)}$ with $\\sigma_z^{(2)}$ and $\\sigma_z^{(1)}\\otimes\\sigma_z^{(2)}$ with $\\sigma_x^{(1)}\\otimes\\sigma_x^{(2)}$."
   ]
  },
  {
   "cell_type": "markdown",
   "metadata": {},
   "source": [
    "By changing the parameter $0 \\le p \\le 1$ we simulate different types of open quantum system dynamics. For $p\\ll1$, the repeated application of, e.g., $\\Phi_{zz}$ generates a master equation of Lindblad form with jump operator $V=\\frac{1}{2}  \\mathbb{I}^{(1)}\\otimes\\sigma_x^{(2)}\\left( \\mathbb{I}+ \\sigma_z^{(1)} \\otimes \\sigma_z^{(2)} \\right)$. For $p=1$, the map $\\Phi_{xx} \\circ \\Phi_{zz}$ generates $|\\psi_- \\rangle $ for any initial state. "
   ]
  },
  {
   "cell_type": "markdown",
   "metadata": {},
   "source": [
    "### Circuit implementation <a id='circuit'></a>"
   ]
  },
  {
   "cell_type": "markdown",
   "metadata": {},
   "source": [
    "In [J. T. Barreiro, et al., Nature 470, 486 (2011)](https://doi.org/10.1038/nature09801), the authors provide the circuits for the implementation of the Bell-state pumping. However, these are composed of gates that are natural to the trapped-ions platform used in that work, so their direct implementation on the IBM's quantum devices would result in far too long circuits. Therefore, we propose a different set of circuits that follow the same basic working principles, but have been designed specifically keeping in mind the characteristics of the IBM devices."
   ]
  },
  {
   "cell_type": "markdown",
   "metadata": {},
   "source": [
    "The pumping circuits are composed of four parts:\n",
    "\n",
    "   1. The relevant information regarding the state of the system (that is, whether the system is in the $+1$ or the $-1$ eigenspaces of the stabiliser operators) is mapped into an ancilla.\n",
    "\n",
    "   2. The state of the system is modified depending on the state of the ancilla.\n",
    "\n",
    "   3. The mapping circuit is reversed. \n",
    "\n",
    "   4. At this stage, the system has been pumped, but if the ancilla is to be used again for a new pumping cycle, it needs to be reset, which is the fourth step. \n",
    "\n",
    "We follow these same lines, designing circuits that perform these same steps while minimising the number of gates involved. Before we explain the resulting circuits, let us mention that, since not all IBM devices are equipped with the reset operation (which is quite noisy in any case), we must use a different ancilla for every pump."
   ]
  },
  {
   "cell_type": "markdown",
   "metadata": {},
   "source": [
    "The way we map the eigenspace information into an ancilla is by first applying a CNOT gate between the system qubits. Suppose that qubits $s_1$ and $s_2$ are initially in some Bell state, for instance, $| \\phi^{\\pm} \\rangle = (| 00 \\rangle \\pm | 11 \\rangle)/\\sqrt{2}$. A CNOT gate controlled by $s_1$ transforms the state into $|\\pm\\rangle|0\\rangle$. Instead, $| \\psi^{\\pm} \\rangle$ would be transformed into $|\\pm\\rangle|1\\rangle$. Hence, we see that the information regarding the $\\sigma_x^{(1)}\\otimes\\sigma_x^{(2)}$ eigenspace (namely, the sign) is contained in the state of $s_1$ after the transformation, whereas the one corresponding to the $\\sigma_z^{(1)}\\otimes\\sigma_z^{(2)}$ is in qubit $s_2$. "
   ]
  },
  {
   "cell_type": "markdown",
   "metadata": {},
   "source": [
    "Now, let us consider the circuit implementing the $\\sigma_z^{(1)}\\otimes\\sigma_z^{(2)}$ pump:"
   ]
  },
  {
   "cell_type": "code",
   "execution_count": 1,
   "metadata": {},
   "outputs": [],
   "source": [
    "from qiskit import QuantumRegister, QuantumCircuit\n",
    "import numpy as np"
   ]
  },
  {
   "cell_type": "code",
   "execution_count": 2,
   "metadata": {},
   "outputs": [
    {
     "data": {
      "image/png": "[encoded data removed]",
      "text/plain": [
       "<Figure size 621.941x284.278 with 1 Axes>"
      ]
     },
     "execution_count": 2,
     "metadata": {},
     "output_type": "execute_result"
    }
   ],
   "source": [
    "#######################\n",
    "#       ZZ pump       #\n",
    "#######################\n",
    "\n",
    "# Quantum register\n",
    "q = QuantumRegister(3, name='q')\n",
    "\n",
    "# Quantum circuit  \n",
    "zz = QuantumCircuit(q)\n",
    "\n",
    "# ZZ pump acting on system qubits\n",
    "## Qubit identification\n",
    "system = [2, 1]\n",
    "a_zz = 0\n",
    "\n",
    "## Define pump efficiency \n",
    "## and corresponding rotation\n",
    "p = 0.5\n",
    "theta = 2 * np.arcsin(np.sqrt(p))\n",
    "\n",
    "## Construct circuit\n",
    "### Map information to ancilla\n",
    "zz.cx(q[system[0]], q[system[1]])\n",
    "zz.x(q[a_zz])\n",
    "zz.cx(q[system[1]], q[a_zz])\n",
    "    \n",
    "### Conditional rotation\n",
    "zz.cu(theta, 0.0, 0.0, 0, q[a_zz], q[system[1]])\n",
    "    \n",
    "### Inverse mapping\n",
    "zz.cx(q[system[1]], q[a_zz])\n",
    "zz.cx(q[system[0]], q[system[1]])\n",
    "\n",
    "# Draw circuit\n",
    "zz.draw(output='mpl')"
   ]
  },
  {
   "cell_type": "markdown",
   "metadata": {},
   "source": [
    "To map the eigenspace information into the environment ancilla $a_\\textrm{ZZ}$, we apply a CNOT controlled by the relevant qubit, $s_2$. After these two gates (and considering that the initial state of the ancilla is $|1\\rangle$), $a_\\textrm{ZZ}$ will be in state $|1\\rangle$ if the initial state of the system is $| \\phi^{\\pm} \\rangle$ and $|0\\rangle$ if it is $| \\psi^{\\pm} \\rangle$. Therefore, the conditional rotation gate only acts in the former case, while it does not modify the state in the latter. The angle of the controlled rotation, in turn, controls the efficiency of the pump $p$ via the relation $\\theta = 2 \\arcsin{\\sqrt{p} }$. Finally, the last two CNOT gates simply revert the mapping part of the circuit. \n",
    "\n",
    "The working principle of the $\\sigma_x^{(1)}\\otimes\\sigma_x^{(2)}$ pump is essentially the same. However, we need to add an extra Hadamard gate to transform the state of $s_1$ before mapping the information to the ancilla $a_\\textrm{XX}$:"
   ]
  },
  {
   "cell_type": "code",
   "execution_count": 3,
   "metadata": {},
   "outputs": [
    {
     "data": {
      "image/png": "[encoded data removed]",
      "text/plain": [
       "<Figure size 789.163x367.889 with 1 Axes>"
      ]
     },
     "execution_count": 3,
     "metadata": {},
     "output_type": "execute_result"
    }
   ],
   "source": [
    "#######################\n",
    "#       XX pump       #\n",
    "#######################\n",
    "\n",
    "# Quantum register\n",
    "q = QuantumRegister(4, name='q')\n",
    "\n",
    "# Quantum circuit  \n",
    "xx = QuantumCircuit(q)\n",
    "\n",
    "# XX pump acting on system qubits\n",
    "## Qubit identification\n",
    "system = [1, 0]\n",
    "a_xx = 3\n",
    "\n",
    "## Define pump efficiency \n",
    "## and corresponding rotation\n",
    "p = 0.5\n",
    "theta = 2 * np.arcsin(np.sqrt(p))\n",
    "\n",
    "## Construct circuit\n",
    "### Map information to ancilla\n",
    "xx.cx(q[system[0]], q[system[1]])\n",
    "xx.h(q[system[0]])\n",
    "xx.x(q[a_xx])\n",
    "xx.cx(q[system[0]], q[a_xx])\n",
    "    \n",
    "### Conditional rotation\n",
    "xx.cu(theta, 0.0, 0.0, 0, q[a_xx], q[system[0]])\n",
    "    \n",
    "### Inverse mapping\n",
    "xx.cx(q[system[0]], q[a_xx])\n",
    "xx.h(q[system[0]])\n",
    "xx.cx(q[system[0]], q[system[1]])\n",
    "\n",
    "# Draw circuit\n",
    "xx.draw(output='mpl')"
   ]
  },
  {
   "cell_type": "markdown",
   "metadata": {},
   "source": [
    "As for the composite pump, we can simply concatenate the two circuits. Notice that in the direct concatenation there would be two consecutive CNOTs between the system qubits, which can be removed."
   ]
  },
  {
   "cell_type": "code",
   "execution_count": 4,
   "metadata": {},
   "outputs": [
    {
     "data": {
      "image/png": "[encoded data removed]",
      "text/plain": [
       "<Figure size 872.774x451.5 with 1 Axes>"
      ]
     },
     "execution_count": 4,
     "metadata": {},
     "output_type": "execute_result"
    }
   ],
   "source": [
    "###########################\n",
    "#       ZZ-XX pumps       #\n",
    "###########################\n",
    "\n",
    "# Quantum register\n",
    "q = QuantumRegister(5, name='q')\n",
    "\n",
    "# Quantum circuit  \n",
    "zz_xx = QuantumCircuit(q)\n",
    "\n",
    "# ZZ and XX pumps acting on system qubits\n",
    "## Qubit identification\n",
    "system = [2, 1]\n",
    "a_zz = 0\n",
    "a_xx = 4\n",
    "\n",
    "## Define pump efficiency \n",
    "## and corresponding rotation\n",
    "p = 0.5\n",
    "theta = 2 * np.arcsin(np.sqrt(p))\n",
    "\n",
    "## Construct circuit\n",
    "## ZZ pump\n",
    "### Map information to ancilla\n",
    "zz_xx.cx(q[system[0]], q[system[1]])\n",
    "zz_xx.x(q[a_zz])\n",
    "zz_xx.cx(q[system[1]], q[a_zz])\n",
    "    \n",
    "### Conditional rotation\n",
    "zz_xx.cu(theta, 0.0, 0.0, 0, q[a_zz], q[system[1]])\n",
    "    \n",
    "### Inverse mapping\n",
    "zz_xx.cx(q[system[1]], q[a_zz])\n",
    "#zz_xx.cx(q[system[0]], q[system[1]])\n",
    "\n",
    "## XX pump\n",
    "### Map information to ancilla\n",
    "#zz_xx.cx(q[system[0]], q[system[1]])\n",
    "zz_xx.h(q[system[0]])\n",
    "zz_xx.x(q[a_xx])\n",
    "zz_xx.cx(q[system[0]], q[a_xx])\n",
    "    \n",
    "### Conditional rotation\n",
    "zz_xx.cu(theta, 0.0, 0.0, 0, q[a_xx], q[system[0]])\n",
    "    \n",
    "### Inverse mapping\n",
    "zz_xx.cx(q[system[0]], q[a_xx])\n",
    "zz_xx.h(q[system[0]])\n",
    "zz_xx.cx(q[system[0]], q[system[1]])\n",
    "\n",
    "# Draw circuit\n",
    "zz_xx.draw(output='mpl')"
   ]
  },
  {
   "cell_type": "markdown",
   "metadata": {},
   "source": [
    "The overall goal of this project is to use these circuits to drive the state of the system from maximally mixed to $|\\psi^-\\rangle$. In this project, we will not use the tomographic reconstruction of the two-qubit state; instead, we will measure the populations of the four Bell states by changing basis."
   ]
  },
  {
   "cell_type": "markdown",
   "metadata": {},
   "source": [
    "### Task 1 (1p)\n",
    "Write three functions, one for each channel (ZZ, XX, and their composition), returning a quantum circuit implementing the channel on the system qubits for a given value of the efficiency parameter $p$ (in the composition map, impose equal efficiencies for both). The circuits must include the **measurement of the system qubits in the Bell basis** by applying a CNOT and Hadamard to the relevant qubits. Tip: remove consecutive CNOT gates (and single-qubit ones) resulting in identity.\n",
    "\n",
    "Find the suggested structure for the functions below."
   ]
  },
  {
   "cell_type": "code",
   "execution_count": null,
   "metadata": {},
   "outputs": [],
   "source": [
    "def zz_pump(q, c, p, system, ancilla):\n",
    "    \"\"\"Returns a QuantumCircuit implementing the ZZ pump channel on the system qubits\n",
    "    \n",
    "    Args:\n",
    "        q (QuantumRegister): the register to use for the circuit\n",
    "        c (ClassicalRegister): the register to use for the measurement of the system qubits\n",
    "        p (float): the efficiency for the channel, between 0 and 1\n",
    "        system (list): list of indices for the system qubits\n",
    "        ancilla (int): index for the ancillary qubit\n",
    "    \n",
    "    Returns:\n",
    "        A QuantumCircuit object\n",
    "    \"\"\""
   ]
  },
  {
   "cell_type": "code",
   "execution_count": null,
   "metadata": {},
   "outputs": [],
   "source": [
    "def xx_pump(q, c, p, system, ancilla):\n",
    "    \"\"\"Returns a QuantumCircuit implementing the XX pump channel on the system qubits\n",
    "    \n",
    "    Args:\n",
    "        q (QuantumRegister): the register to use for the circuit\n",
    "        c (ClassicalRegister): the register to use for the measurement of the system qubits\n",
    "        p (float): the efficiency for the channel, between 0 and 1\n",
    "        system (list): list of indices for the system qubits\n",
    "        ancilla (int): index for the ancillary qubit\n",
    "    \n",
    "    Returns:\n",
    "        A QuantumCircuit object\n",
    "    \"\"\""
   ]
  },
  {
   "cell_type": "code",
   "execution_count": null,
   "metadata": {},
   "outputs": [],
   "source": [
    "def zz_xx_pump(q, c, p, system, ancillae):\n",
    "    \"\"\"Returns a QuantumCircuit implementing the composition channel on the system qubits\n",
    "    \n",
    "    Args:\n",
    "        q (QuantumRegister): the register to use for the circuit\n",
    "        c (ClassicalRegister): the register to use for the measurement of the system qubits\n",
    "        p (float): the efficiency for both channels, between 0 and 1\n",
    "        system (list): list of indices for the system qubits\n",
    "        ancillae (list): list of indices for the ancillary qubits\n",
    "    \n",
    "    Returns:\n",
    "        A QuantumCircuit object\n",
    "    \"\"\""
   ]
  },
  {
   "cell_type": "markdown",
   "metadata": {},
   "source": [
    "### Task 2 (3p)\n",
    "\n",
    "We need to set the two-qubit system initially in the maximally mixed state $\\rho = I_4/4$, where $I_4$ is the $4\\times4$ identity matrix. In principle, this could be done by entangling the system with other ancillary qubits, but that would require two extra qubits in our simulation. Instead, we can create a *proper statistical mixture*. This means that we can obtain $\\rho$ by mixing four initially pure states, e.g. the two-qubit computational basis states.\n",
    "\n",
    "For each initial state of the qubits $|00\\rangle$, $|01\\rangle$, $|10\\rangle$ and $|11\\rangle$, apply the three channels for different values of $p \\in [0,1]$ and save the resulting Bell populations for the next task."
   ]
  },
  {
   "cell_type": "markdown",
   "metadata": {},
   "source": [
    "### Task 3 (3p)\n",
    "\n",
    "To finally simulate the effect of the different channels on the maximally mixed state, average all the results over the four initial states with a noiseless simulator. Plot the results as a function of the channel efficiency $p$."
   ]
  },
  {
   "cell_type": "markdown",
   "metadata": {},
   "source": [
    "### Task 4 (3p)\n",
    "\n",
    "Run the circuits on a noisy simulator (e.g. FakePerth) with readout error mitigation and plot the results. For readout error mitigation you can for example use [LocalReadoutError](https://qiskit.org/ecosystem/experiments/stubs/qiskit_experiments.library.characterization.LocalReadoutError.html) and apply the mitigator object on the results."
   ]
  },
  {
   "cell_type": "markdown",
   "metadata": {},
   "source": [
    "### Optional Task\n",
    "\n",
    "Run the circuits on IBM Quantum with noise mitigation and plot the results."
   ]
  }
 ],
 "metadata": {
  "kernelspec": {
   "display_name": "Python 3",
   "language": "python",
   "name": "python3"
  },
  "language_info": {
   "codemirror_mode": {
    "name": "ipython",
    "version": 3
   },
   "file_extension": ".py",
   "mimetype": "text/x-python",
   "name": "python",
   "nbconvert_exporter": "python",
   "pygments_lexer": "ipython3",
   "version": "3.11.5"
  }
 },
 "nbformat": 4,
 "nbformat_minor": 2
}
