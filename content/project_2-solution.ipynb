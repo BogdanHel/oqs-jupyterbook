{
 "cells": [
  {
   "cell_type": "markdown",
   "metadata": {},
   "source": [
    "# Project 2: Pauli channel\n",
    "\n",
    "# Solution"
   ]
  },
  {
   "cell_type": "code",
   "execution_count": 1,
   "metadata": {},
   "outputs": [],
   "source": [
    "import numpy as np\n",
    "from scipy.optimize import fsolve, differential_evolution, root\n",
    "\n",
    "# Main qiskit imports\n",
    "from qiskit import QuantumRegister, ClassicalRegister\n",
    "from qiskit import QuantumCircuit\n",
    "from qiskit import AerSimulator\n",
    "\n",
    "# Tomography\n",
    "from qiskit_experiments.library.tomography import StateTomography, StateTomographyAnalysis\n",
    "from qiskit_experiments.framework import BatchExperiment, CompositeAnalysis\n",
    "from qiskit.quantum_info import DensityMatrix\n",
    "\n",
    "# Plots\n",
    "import matplotlib.pyplot as plt"
   ]
  },
  {
   "cell_type": "markdown",
   "metadata": {},
   "source": [
    "## Task 1\n",
    "An example of a Pauli channel that can't be implemented with the circuit introduced in Project 1, is indeed the eternally non-Markovian channel that we are implementing in this project!"
   ]
  },
  {
   "cell_type": "markdown",
   "metadata": {},
   "source": [
    "## Task 2"
   ]
  },
  {
   "cell_type": "code",
   "execution_count": 2,
   "metadata": {},
   "outputs": [],
   "source": [
    "# We have an analytical solution of the system of equations\n",
    "def theta_from_p(p):\n",
    "    \"\"\" Returns the angles [theta_1, theta_2, theta_3] that implement the Pauli channel with\n",
    "    probabilities p = [p_1, p_2, p_3]\"\"\"\n",
    "    \n",
    "    p = np.asarray(p, dtype=complex)\n",
    "    c = [np.sqrt(1 - np.sqrt(-4*p[0]**2 + (1 - 2*p[2])**2 + 8*p[0]*(p[2] + np.sqrt(-(p[2]*(-1 + 2*p[0] + p[2]))))))/np.sqrt(2),\n",
    "      np.sqrt(8*p[0]**3 - 4*p[0]**2*(-1 - 6*p[2] + np.sqrt(-4*p[0]**2 + (1 - 2*p[2])**2 + 8*p[0]*(p[2] + np.sqrt(-(p[2]*(-1 + 2*p[0] + p[2])))))) + \n",
    "           (1 - 2*p[2])**2*(-1 + 2*p[2] + np.sqrt(-4*p[0]**2 + (1 - 2*p[2])**2 + 8*p[0]*(p[2] + np.sqrt(-(p[2]*(-1 + 2*p[0] + p[2])))))) - \n",
    "           2*p[0]*(1 + 4*(p[2] - 3*p[2]**2 - p[2]*np.sqrt(-4*p[0]**2 + (1 - 2*p[2])**2 + 8*p[0]*(p[2] + np.sqrt(-(p[2]*(-1 + 2*p[0] + p[2]))))) + \n",
    "                 np.sqrt(-(p[2]*(-1 + 2*p[0] + p[2])))*np.sqrt(-4*p[0]**2 + (1 - 2*p[2])**2 + 8*p[0]*(p[2] + np.sqrt(-(p[2]*(-1 + 2*p[0] + p[2]))))))))/\n",
    "         (np.sqrt(2)*np.sqrt((-1 + 2*p[0] + 2*p[2])*(4*p[0]**2 + (1 - 2*p[2])**2 + p[0]*(4 + 8*p[2])))),\n",
    "      np.sqrt((8*p[0]**3 - 4*p[0]**2*(-1 - 6*p[2] + np.sqrt(-4*p[0]**2 + (1 - 2*p[2])**2 + 8*p[0]*(p[2] + np.sqrt(-(p[2]*(-1 + 2*p[0] + p[2])))))) + \n",
    "             (1 - 2*p[2])**2*(-1 + 2*p[2] + np.sqrt(-4*p[0]**2 + (1 - 2*p[2])**2 + 8*p[0]*(p[2] + np.sqrt(-(p[2]*(-1 + 2*p[0] + p[2])))))) - \n",
    "             2*p[0]*(1 + 4*(p[2] - 3*p[2]**2 - p[2]*np.sqrt(-4*p[0]**2 + (1 - 2*p[2])**2 + 8*p[0]*(p[2] + np.sqrt(-(p[2]*(-1 + 2*p[0] + p[2]))))) + \n",
    "                   np.sqrt(-(p[2]*(-1 + 2*p[0] + p[2])))*np.sqrt(-4*p[0]**2 + (1 - 2*p[2])**2 + 8*p[0]*(p[2] + np.sqrt(-(p[2]*(-1 + 2*p[0] + p[2]))))))))/\n",
    "           (4*p[0]**2 + (1 - 2*p[2])**2 + p[0]*(4 + 8*p[2])))/np.sqrt(-2 + 4*p[0] + 4*p[2])]\n",
    "\n",
    "    theta = 2*np.arccos(np.real(c))\n",
    "    return theta"
   ]
  },
  {
   "cell_type": "code",
   "execution_count": 1,
   "metadata": {},
   "outputs": [],
   "source": [
    "def pauli_channel(q, p, system, pauli_ancillae):\n",
    "    \"\"\"\n",
    "        Apply the Pauli channel to system with probabilities p\n",
    "        \n",
    "    Args:\n",
    "    q (QuantumRegister): the quantum register for the circuit\n",
    "    system (int): index of the system qubit\n",
    "    pauli_ancillae (list): list of indices of the ancillary qubits\n",
    "    p (list): list of probabilities [p_1, p_2, p_3] for the Pauli channel\n",
    "    \n",
    "    Returns:\n",
    "    A QuantumCircuit implementing the Pauli channel\n",
    "    \"\"\"\n",
    "    \n",
    "    theta = theta_from_p(p)\n",
    "    \n",
    "    dc = QuantumCircuit(q)\n",
    "    dc.ry(theta[0]/2, q[pauli_ancillae[0]])\n",
    "    dc.cx(q[pauli_ancillae[0]], q[pauli_ancillae[1]])\n",
    "    dc.ry(theta[1]/2, q[pauli_ancillae[0]])\n",
    "    dc.ry(theta[2]/2, q[pauli_ancillae[1]])\n",
    "\n",
    "    dc.cx(q[pauli_ancillae[0]], q[system])\n",
    "    dc.cy(q[pauli_ancillae[1]], q[system])\n",
    "\n",
    "    return dc"
   ]
  },
  {
   "cell_type": "markdown",
   "metadata": {},
   "source": [
    "## Task 3\n",
    "\n",
    "By using the suggested imports, the functions `conditional_entropy` and `extractable_work` are actually\n",
    "one-liners..."
   ]
  },
  {
   "cell_type": "code",
   "execution_count": 4,
   "metadata": {},
   "outputs": [],
   "source": [
    "from qiskit.quantum_info import entropy, partial_trace\n",
    "\n",
    "def conditional_entropy(state, qubit_a, qubit_b):\n",
    "    \"\"\"Conditional entropy S(A|B) = S(AB) - S(B)\n",
    "    \n",
    "    Args:\n",
    "        state: a vector or density operator\n",
    "        qubit_a: 0-based index of the qubit A\n",
    "        qubit_b: 0-based index of the qubit B\n",
    "        \n",
    "    Returns:\n",
    "        int: the conditional entropy\n",
    "    \"\"\"\n",
    "    return entropy(state) - entropy(partial_trace(state, [qubit_b]))\n",
    "\n",
    "def extractable_work(state, system_qubit, memory_qubit, n=1):\n",
    "    \"\"\"Extractable work from a two-qubit state\n",
    "    =\n",
    "    Cfr. Eq. (3-4) Bylicka et al., Sci. Rep. 6, 27989 (2016)\n",
    "    \n",
    "    Args:\n",
    "        state: a vector or density operator\n",
    "        system_qubit: index of the system qubit\n",
    "        memory_qubit: index of the memory qubit\n",
    "        n: number of system qubits\n",
    "    \"\"\"\n",
    "    return (n - conditional_entropy(state, system_qubit, memory_qubit))"
   ]
  },
  {
   "cell_type": "markdown",
   "metadata": {},
   "source": [
    "## Task 4\n",
    "First of all, we define the function returning the probabilities as function of time:"
   ]
  },
  {
   "cell_type": "code",
   "execution_count": 5,
   "metadata": {},
   "outputs": [],
   "source": [
    "def p_enm(t, eta=1., omega=1.):\n",
    "    p = [1/4 * (1 - np.exp(-2 * t * eta)), \n",
    "         1/4 * (1 - np.exp(-2 * t * eta)),\n",
    "         1/4 * (1 + np.exp(-2 * t * eta) - 2 * np.exp(-t *eta) * np.cosh(t * omega))]\n",
    "    return p\n",
    "\n",
    "def p_ncp(t, eta=1., omega=1.):\n",
    "    p = [1/4 * (1 - np.exp(-2 * t * eta)), \n",
    "         1/4 * (1 - np.exp(-2 * t * eta)),\n",
    "         1/4 * (1 + np.exp(-2 * t * eta) - 2 * np.exp(-t *eta) * np.cos(t * omega))]\n",
    "    return p"
   ]
  },
  {
   "cell_type": "code",
   "execution_count": 6,
   "metadata": {},
   "outputs": [],
   "source": [
    "# Here are the parameters\n",
    "t_values = np.linspace(0, 3, 11)\n",
    "\n",
    "# Parameters\n",
    "params_ncp = {'eta': 0.1, 'omega': 2.0}\n",
    "params_enm = {'eta': 1.0, 'omega': .5}\n",
    "\n",
    "# And the qubit assignments\n",
    "q = QuantumRegister(4, name='q')\n",
    "c = ClassicalRegister(2, name='c')\n",
    "\n",
    "system = 2\n",
    "ancilla = 3\n",
    "\n",
    "pauli_ancillae = [0, 1]"
   ]
  },
  {
   "cell_type": "markdown",
   "metadata": {},
   "source": [
    "The state preparation circuit"
   ]
  },
  {
   "cell_type": "code",
   "execution_count": 7,
   "metadata": {},
   "outputs": [
    {
     "data": {
      "image/png": "[encoded data removed]",
      "text/plain": [
       "<Figure size 162.08x367.889 with 1 Axes>"
      ]
     },
     "execution_count": 7,
     "metadata": {},
     "output_type": "execute_result"
    }
   ],
   "source": [
    "# Prepare the two qubits 0 and 2 in a psi- state\n",
    "prepare_two_qubit = QuantumCircuit(q)\n",
    "\n",
    "# prepare_two_qubit.x(q[ancilla])\n",
    "# prepare_two_qubit.x(q[system])\n",
    "# prepare_two_qubit.h(q[ancilla])\n",
    "# prepare_two_qubit.cx(q[ancilla], q[system]) \n",
    "# prepare_two_qubit.barrier()\n",
    "prepare_two_qubit.draw('mpl')"
   ]
  },
  {
   "cell_type": "markdown",
   "metadata": {},
   "source": [
    "And finally the simulation of the Pauli channel"
   ]
  },
  {
   "cell_type": "code",
   "execution_count": 8,
   "metadata": {},
   "outputs": [
    {
     "data": {
      "text/plain": [
       "Text(0, 0.5, '$W_{ex}/kT\\\\ln{2}$')"
      ]
     },
     "execution_count": 8,
     "metadata": {},
     "output_type": "execute_result"
    },
    {
     "data": {
      "image/png": "[encoded data removed]",
      "text/plain": [
       "<Figure size 640x480 with 1 Axes>"
      ]
     },
     "metadata": {},
     "output_type": "display_data"
    }
   ],
   "source": [
    "experiments = []\n",
    "exact_results_ncp = []\n",
    "exact_results_enm = []\n",
    "\n",
    "for t in t_values:\n",
    "    circ = prepare_two_qubit.compose(pauli_channel(q, p_ncp(t, **params_ncp), system, pauli_ancillae))\n",
    "    tomo_fitter = StateTomography(circ, measurement_indices=[ancilla, system])\n",
    "    experiments.append(tomo_fitter)\n",
    "    exact_results_ncp.append(extractable_work(partial_trace(DensityMatrix(circ), [0,1]).data, 1, 0))\n",
    "\n",
    "for t in t_values:\n",
    "    circ = prepare_two_qubit.compose(pauli_channel(q, p_enm(t, **params_enm), system, pauli_ancillae))\n",
    "    tomo_fitter = StateTomography(circ, measurement_indices=[ancilla, system])\n",
    "    experiments.append(tomo_fitter)\n",
    "    exact_results_enm.append(extractable_work(partial_trace(DensityMatrix(circ), [0,1]).data, 1, 0))\n",
    "\n",
    "batch_exp = BatchExperiment(experiments, backend=AerSimulator())\n",
    "job = batch_exp.run(shots=8192).block_for_results()\n",
    "\n",
    "wext_ncp = []\n",
    "wext_enm = []\n",
    "\n",
    "for res in job.child_data()[:len(t_values)]:\n",
    "    rho = res.analysis_results('state').value\n",
    "    wext_ncp.append(extractable_work(rho, 1, 0))\n",
    "\n",
    "for res in job.child_data()[len(t_values):]:\n",
    "    rho = res.analysis_results('state').value\n",
    "    wext_enm.append(extractable_work(rho, 1, 0))\n",
    "\n",
    "plt.plot(t_values, wext_ncp, 'x', color='tab:blue', label='Non CP-div.')\n",
    "plt.plot(t_values, wext_enm, 'x', color='tab:orange', label='Et. Non-M')\n",
    "plt.plot(t_values, exact_results_ncp, color='tab:blue', label='Non CP-div. exact')\n",
    "plt.plot(t_values, exact_results_enm, color='tab:orange', label='Et. Non-M exact')\n",
    "\n",
    "plt.legend()\n",
    "plt.xlabel('t')\n",
    "plt.ylabel('$W_{ex}/kT\\ln{2}$')"
   ]
  },
  {
   "cell_type": "code",
   "execution_count": null,
   "metadata": {},
   "outputs": [],
   "source": []
  }
 ],
 "metadata": {
  "kernelspec": {
   "display_name": "Python 3",
   "language": "python",
   "name": "python3"
  },
  "language_info": {
   "codemirror_mode": {
    "name": "ipython",
    "version": 3
   },
   "file_extension": ".py",
   "mimetype": "text/x-python",
   "name": "python",
   "nbconvert_exporter": "python",
   "pygments_lexer": "ipython3",
   "version": "3.11.9"
  }
 },
 "nbformat": 4,
 "nbformat_minor": 2
}
