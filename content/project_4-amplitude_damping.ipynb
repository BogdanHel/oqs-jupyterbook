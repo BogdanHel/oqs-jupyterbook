{
 "cells": [
  {
   "cell_type": "markdown",
   "metadata": {},
   "source": [
    "## Project 4: Amplitude damping\n",
    "\n",
    "In this project we will simulate the Jaynes-Cummings model, also known as the generalised amplitude damping model, and the Markovianity of the dynamics depending on the strength of the coupling. For more information on the model please refer to [Open Quantum Systems with Qiskit](https://matteoacrossi.github.io/oqs-jupyterbook/jaynes_cummings_with_losses.html)."
   ]
  },
  {
   "cell_type": "code",
   "execution_count": 1,
   "metadata": {},
   "outputs": [],
   "source": [
    "from qiskit import QuantumRegister, ClassicalRegister, QuantumCircuit\n",
    "import numpy as np"
   ]
  },
  {
   "cell_type": "markdown",
   "metadata": {},
   "source": [
    "To simulate the Jaynes-Cummings model, we consider one qubit as the system ($q_0$) and one extra qubit ($q_1$) to implement the dynamical map. In other words, we do not simulate the dynamics of system and environment, but only the resulting channel on the system qubit. Nevertheless, we will refer to $q_1$ as environment qubit. Given that the only parameter of the channel is $c_1(t)$ (which is itself parametrized by time), the following circuit results in such dynamics:"
   ]
  },
  {
   "cell_type": "code",
   "execution_count": 2,
   "metadata": {},
   "outputs": [
    {
     "data": {
      "image/png": "[encoded data removed]",
      "text/plain": [
       "<Figure size 370.906x200.667 with 1 Axes>"
      ]
     },
     "execution_count": 2,
     "metadata": {},
     "output_type": "execute_result"
    }
   ],
   "source": [
    "###########################################\n",
    "#        Amplitude damping channel        #\n",
    "###########################################\n",
    "\n",
    "# Quantum register\n",
    "q = QuantumRegister(2, name='q')\n",
    "\n",
    "# Quantum circuit\n",
    "ad = QuantumCircuit(q)\n",
    "\n",
    "# Amplitude damping channel acting on system qubit\n",
    "## Qubit identification\n",
    "system = 0\n",
    "environment = 1\n",
    "\n",
    "# Define rotation angle\n",
    "theta = 0.0\n",
    "\n",
    "# Construct circuit\n",
    "ad.x(q[system])\n",
    "# Notice the extra factor 2 due to how qiskit defines the unitary angles\n",
    "ad.cu(theta, 0.0, 0.0, 0.0, q[system], q[environment])\n",
    "ad.cx(q[environment], q[system])\n",
    "\n",
    "# Draw circuit\n",
    "ad.draw(output='mpl')"
   ]
  },
  {
   "cell_type": "markdown",
   "metadata": {},
   "source": [
    "Recall that, in the above circuit, $\\theta = \\arccos{c_1(t)}$ with\n",
    "\\begin{equation}\n",
    "c_{1}(t)=e^{-\\lambda t/2}\\left[\\cosh\\left(\\frac{\\lambda t}{2}\\sqrt{1-2R}\\right)+\\frac{1}{\\sqrt{1-2R}}\\sinh\\left(\\frac{\\lambda t}{2}\\sqrt{1-2R}\\right)\\right].\n",
    "\\end{equation}"
   ]
  },
  {
   "cell_type": "markdown",
   "metadata": {},
   "source": [
    "### Task 1 (1p)\n",
    "\n",
    "Write a function that returns $c_1(t)$. The function should admit an extra parameter $R$ and return the correct value for $R > 1/2$ and $R < 1/2$.\n",
    "\n",
    "Here is the suggested structure:"
   ]
  },
  {
   "cell_type": "code",
   "execution_count": 3,
   "metadata": {},
   "outputs": [],
   "source": [
    "def c1(R,t):\n",
    "    \"\"\"Returns the coherence factor in the amplitude damping channel\n",
    "    \n",
    "    Args:\n",
    "        R (float): value of R = \\gamma_0/\\lambda\n",
    "        t (float): value of the time variable\n",
    "    \n",
    "    Returns:\n",
    "        A float number\n",
    "    \"\"\""
   ]
  },
  {
   "cell_type": "markdown",
   "metadata": {},
   "source": [
    "### Task 2 (1p)\n",
    "\n",
    "Write a function that returns the amplitude damping channel given the values of $R$ and $t$. You can choose to include the initial state of the system ($|1\\rangle$) into the function or to initialize its state elsewhere later.\n",
    "\n",
    "The suggested structure is"
   ]
  },
  {
   "cell_type": "code",
   "execution_count": 4,
   "metadata": {},
   "outputs": [],
   "source": [
    "def amplitude_damping_channel(q, c, sys, env, R, t):\n",
    "    \"\"\"Returns a QuantumCircuit implementing the amplitude damping channel on the system qubit\n",
    "    \n",
    "    Args:\n",
    "        q (QuantumRegister): the register to use for the circuit\n",
    "        c (ClassicalRegister): the register to use for the measurement of the system qubit\n",
    "        sys (int): index for the system qubit\n",
    "        env (int): index for the environment qubit\n",
    "        R (float): value of R = \\gamma_0/\\lambda\n",
    "        t (float): value of the time variable\n",
    "    \n",
    "    Returns:\n",
    "        A QuantumCircuit object\n",
    "    \"\"\""
   ]
  },
  {
   "cell_type": "markdown",
   "metadata": {},
   "source": [
    "### Task 3 (3p)\n",
    "\n",
    "Choose some (at least 2) values of $R$. There should be values above and below $1/2$. For each value, simulate the amplitude damping channel at several values of $t$ and measure the probability for the atom to be in the excited state ($|1\\rangle$) on a noiseless as well as a noisy simulator (e.g. FakePerth) with readout error mitigation ([LocalReadoutError](https://qiskit.org/ecosystem/experiments/stubs/qiskit_experiments.library.characterization.LocalReadoutError.html)). Plot the results."
   ]
  },
  {
   "cell_type": "markdown",
   "metadata": {},
   "source": [
    "### Task 4 (1p)\n",
    "\n",
    "We now turn our attention towards the Markovianity of the dynamics. To that end, we will simulate the channel introducing the non-Markovianity witness (you can find the circuit below). "
   ]
  },
  {
   "cell_type": "code",
   "execution_count": 5,
   "metadata": {},
   "outputs": [
    {
     "data": {
      "image/png": "[encoded data removed]",
      "text/plain": [
       "<Figure size 705.552x367.889 with 1 Axes>"
      ]
     },
     "execution_count": 5,
     "metadata": {},
     "output_type": "execute_result"
    }
   ],
   "source": [
    "#######################################\n",
    "#      Amplitude damping channel      #\n",
    "#         with non-M. witness         #\n",
    "#######################################\n",
    "\n",
    "# Quantum and classical register\n",
    "q = QuantumRegister(3, name='q')\n",
    "c = ClassicalRegister(2, name='c')\n",
    "\n",
    "# Quantum circuit\n",
    "ad = QuantumCircuit(q, c)\n",
    "\n",
    "# Amplitude damping channel acting on system qubit\n",
    "# with non-Markovianity witness\n",
    "## Qubit identification\n",
    "system = 0\n",
    "environment = 1\n",
    "ancilla = 2\n",
    "\n",
    "# Define rotation angle\n",
    "theta = 0.0\n",
    "\n",
    "# Construct circuit\n",
    "## Bell state between system and ancilla\n",
    "ad.h(q[system])\n",
    "ad.cx(q[system], q[ancilla])\n",
    "\n",
    "## Channel acting on system qubit\n",
    "ad.cu(theta, 0.0, 0.0, 0.0, q[system], q[environment])\n",
    "ad.cx(q[environment], q[system])\n",
    "\n",
    "## Local measurement for the witness\n",
    "### Choose observable\n",
    "observable = 'YY'\n",
    "### Change to the corresponding basis\n",
    "if observable == 'XX':\n",
    "    ad.h(q[system])\n",
    "    ad.h(q[ancilla])\n",
    "elif observable == 'YY':\n",
    "    ad.sdg(q[system])\n",
    "    ad.h(q[system])\n",
    "    ad.sdg(q[ancilla])\n",
    "    ad.h(q[ancilla])\n",
    "### Measure\n",
    "ad.measure(q[system], c[0])\n",
    "ad.measure(q[ancilla], c[1])\n",
    "\n",
    "# Draw circuit\n",
    "ad.draw(output='mpl')"
   ]
  },
  {
   "cell_type": "markdown",
   "metadata": {},
   "source": [
    "The witness is given by the probability of measuring the system and the ancilla in state $| \\phi^{+} \\rangle \\langle \\phi^{+} | = (\\mathbb{I}\\otimes \\mathbb{I} + \\sigma_{x}\\otimes \\sigma_{x} - \\sigma_{y}\\otimes \\sigma_{y} + \\sigma_{z}\\otimes \\sigma_{z})/4$, and the above circuit allows for the measurement of the corresponding observables.\n",
    "\n",
    "Write a function returning, for a given witness observable, $R$ and $t$, the corresponding circuit.\n",
    "\n",
    "Suggested structure below."
   ]
  },
  {
   "cell_type": "code",
   "execution_count": null,
   "metadata": {},
   "outputs": [],
   "source": [
    "def amplitude_damping_channel_witness(q, c, sys, env, anc, observable, R, t):\n",
    "    \"\"\"Returns a QuantumCircuit implementing the amplitude damping channel on the system qubit with non-Markovianity witness\n",
    "    \n",
    "    Args:\n",
    "        q (QuantumRegister): the register to use for the circuit\n",
    "        c (ClassicalRegister): the register to use for the measurement of the system and ancilla qubits\n",
    "        sys (int): index for the system qubit\n",
    "        env (int): index for the environment qubit\n",
    "        anc (int): index for the ancillary qubit\n",
    "        observable (str): the observable to be measured. Possible values \"XX\", \"YY\", \"ZZ\"\n",
    "        R (float): value of R = \\gamma_0/\\lambda\n",
    "        t (float): value of the time variable\n",
    "    \n",
    "    Returns:\n",
    "        A QuantumCircuit object\n",
    "    \"\"\""
   ]
  },
  {
   "cell_type": "markdown",
   "metadata": {},
   "source": [
    "### Task 5 (4p)\n",
    "\n",
    "Simulate the dynamics with the witness for the same values of $R$ and $t$ as in Task 3. To do so, run the circuits on a noiseless as well as a noisy simulator (e.g. FakePerth) with readout error mitigation for the three observables, $\\sigma_{x}\\otimes \\sigma_{x}$, $\\sigma_{y}\\otimes \\sigma_{y}$, and $\\sigma_{z}\\otimes \\sigma_{z}$ and compute their expected values. This allows to compute the value of the witness as $1 + \\left\\langle \\sigma_{x}\\otimes \\sigma_{x} \\right\\rangle - \\left\\langle\\sigma_{y}\\otimes \\sigma_{y} \\right\\rangle + \\left\\langle\\sigma_{z}\\otimes \\sigma_{z} \\right\\rangle)/4$. Plot the results as a function of $t$."
   ]
  },
  {
   "cell_type": "markdown",
   "metadata": {},
   "source": [
    "### Homework\n",
    "\n",
    "Run the circuits on the IBM Quantum with readout error mitigation and plot the results."
   ]
  }
 ],
 "metadata": {
  "kernelspec": {
   "display_name": "Python 3.8.5 64-bit ('base': conda)",
   "name": "python3"
  },
  "language_info": {
   "codemirror_mode": {
    "name": "ipython",
    "version": 3
   },
   "file_extension": ".py",
   "mimetype": "text/x-python",
   "name": "python",
   "nbconvert_exporter": "python",
   "pygments_lexer": "ipython3",
   "version": "3.11.5"
  }
 },
 "nbformat": 4,
 "nbformat_minor": 2
}
