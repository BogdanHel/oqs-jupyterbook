{
 "cells": [
  {
   "cell_type": "markdown",
   "metadata": {},
   "source": [
    "# Getting started\n",
    "Before diving into the material we should make sure that all the technical things are working as we expect them to. We want that `python` is installed correctly and that we have `qiskit`, `numpy` and `matplotlib` installed also."
   ]
  },
  {
   "cell_type": "markdown",
   "metadata": {},
   "source": [
    "To be able to run the code we first want to make sure that we have a python installation with all the necessary requirements for the code in this course.\n",
    "\n",
    "When working with python, we recommend you to use a python distribution such as `miniconda` to handle installation of different packages. With `miniconda` you can create separate python \"environments\", which all can have a different version of python and different lists of installed packages, which each can be of separate versions. This avoids the common issue of conflicting package versions if you are working on multiple different projects with python.\n",
    "\n",
    "To install `miniconda`, download the correct installer from [https://docs.conda.io/projects/miniconda/en/latest/]() and follow the instructions at the bottom of the page. On Linux and MacOS you can also simply just execute the file in the terminal:\n",
    "\n",
    "```> sh Miniconda3-latest-Linux-x86_64.sh```\n",
    "\n",
    "and follow the instructions from the installer.\n",
    "\n",
    "Once `miniconda` has been installed, you can restart the terminal and `(base)` should appear at the left side of your terminal. This indicated that the currently active `miniconda` environment is `base`.\n",
    "\n",
    "To install all the requirements that you will need in this course, we have prepared a `requirements.yml` file that you can use to create an environment. To create a new `miniconda` environment with all the requirements, you run:\n",
    "\n",
    "```> conda env create -f requirements.yaml```\n",
    "\n",
    "This should create a new environment with the name `oqs-hy2023`. To activate it, run:\n",
    "\n",
    "```> conda activate oqs-hy2023```\n",
    "\n",
    "You will need to do this every time you restart the terminal and want to change to this environment. If you now see `(oqs-hy2023)` on the left side of the terminal you can move on!"
   ]
  },
  {
   "cell_type": "markdown",
   "metadata": {},
   "source": [
    "Feel free to use any text editor that you are comfortable with (I use [Visual Studio Code](https://code.visualstudio.com/)) but please return your exercise solutions in either Jupyter notebook format or as a python (`.py`) file. Please also annotate your code where you believe it to be necessary and in case you return a python file, please also describe how to run the script and where to expect your results as comments in the code or a separate text or pdf file. "
   ]
  },
  {
   "cell_type": "markdown",
   "metadata": {},
   "source": [
    "Let us first take a look at `numpy` ([API Reference](https://numpy.org/doc/1.23/reference/index.html)). It is a very useful python library that can be used for all kinds of numerical computations dealing specifically with matrices and arrays."
   ]
  },
  {
   "cell_type": "markdown",
   "metadata": {},
   "source": [
    "Python natively supports `lists` which are dynamically sized, meaning that you can add or remove elements to lists after you have created them. `numpy` arrays, on the other hand, have a fixed size, which means that you must create a new array if you want to modify the size of one. This is one reason `numpy` operations are typically faster, as the underlying implementation is based on the C language.\n",
    "\n",
    "Let us quickly compare them."
   ]
  },
  {
   "cell_type": "code",
   "execution_count": 1,
   "metadata": {},
   "outputs": [],
   "source": [
    "python_list = [0,0,0,0]"
   ]
  },
  {
   "cell_type": "markdown",
   "metadata": {},
   "source": [
    "When you add python lists, you concatenate them."
   ]
  },
  {
   "cell_type": "code",
   "execution_count": 2,
   "metadata": {},
   "outputs": [
    {
     "data": {
      "text/plain": [
       "[0, 0, 0, 0, 0, 0, 0, 0]"
      ]
     },
     "execution_count": 2,
     "metadata": {},
     "output_type": "execute_result"
    }
   ],
   "source": [
    "python_list + python_list"
   ]
  },
  {
   "cell_type": "markdown",
   "metadata": {},
   "source": [
    "Subtraction between python lists is not supported."
   ]
  },
  {
   "cell_type": "code",
   "execution_count": 3,
   "metadata": {},
   "outputs": [
    {
     "ename": "TypeError",
     "evalue": "unsupported operand type(s) for -: 'list' and 'list'",
     "output_type": "error",
     "traceback": [
      "\u001b[0;31m---------------------------------------------------------------------------\u001b[0m",
      "\u001b[0;31mTypeError\u001b[0m                                 Traceback (most recent call last)",
      "\u001b[1;32m/Users/keijo/Documents/oqs_material/oqs-hy2023/content/introduction.ipynb Cell 10\u001b[0m line \u001b[0;36m1\n\u001b[0;32m----> <a href='vscode-notebook-cell:/Users/keijo/Documents/oqs_material/oqs-hy2023/content/introduction.ipynb#X12sZmlsZQ%3D%3D?line=0'>1</a>\u001b[0m python_list \u001b[39m-\u001b[39;49m python_list\n",
      "\u001b[0;31mTypeError\u001b[0m: unsupported operand type(s) for -: 'list' and 'list'"
     ]
    }
   ],
   "source": [
    "python_list - python_list"
   ]
  },
  {
   "cell_type": "markdown",
   "metadata": {},
   "source": [
    "You can append elements to a python list."
   ]
  },
  {
   "cell_type": "code",
   "execution_count": 4,
   "metadata": {},
   "outputs": [
    {
     "data": {
      "text/plain": [
       "[0, 0, 0, 0, 1]"
      ]
     },
     "execution_count": 4,
     "metadata": {},
     "output_type": "execute_result"
    }
   ],
   "source": [
    "python_list.append(1)\n",
    "python_list"
   ]
  },
  {
   "cell_type": "markdown",
   "metadata": {},
   "source": [
    "Lists may also contain different types of objects, such as dictionaries, instances of any python class or even other lists.\n",
    "\n",
    "You may also find these following python tools and objects useful."
   ]
  },
  {
   "cell_type": "code",
   "execution_count": 5,
   "metadata": {},
   "outputs": [
    {
     "name": "stdout",
     "output_type": "stream",
     "text": [
      "[2, 3, 4, 5, 6, 7, 8, 9]\n",
      "10\n",
      "{'a': 0, 'b': 5, 'c': 2, 'd': 5}\n",
      "Index 0, value 10\n",
      "Index 1, value 11\n",
      "Index 2, value 12\n",
      "Index 3, value 13\n"
     ]
    }
   ],
   "source": [
    "# List comprehension\n",
    "print([i for i in range(2,10)])\n",
    "\n",
    "# Dictionary\n",
    "result = {\"a\": 10, \"b\": 5, \"c\": 2}\n",
    "print(result[\"a\"])\n",
    "result.update({\"a\": 0, \"d\": 5})\n",
    "print(result)\n",
    "\n",
    "# Enumerate (index and value)\n",
    "for i, value in enumerate([10,11,12,13]):\n",
    "    print(f\"Index {i}, value {value}\")"
   ]
  },
  {
   "cell_type": "code",
   "execution_count": 6,
   "metadata": {},
   "outputs": [],
   "source": [
    "import numpy as np\n",
    "\n",
    "numpy_array = np.array([1,0,0,1])"
   ]
  },
  {
   "cell_type": "markdown",
   "metadata": {},
   "source": [
    "Addition with `numpy` instead performs an elementwise addition. Likewise for subtraction, multiplication and division."
   ]
  },
  {
   "cell_type": "code",
   "execution_count": 7,
   "metadata": {},
   "outputs": [
    {
     "data": {
      "text/plain": [
       "array([2, 0, 0, 2])"
      ]
     },
     "execution_count": 7,
     "metadata": {},
     "output_type": "execute_result"
    }
   ],
   "source": [
    "numpy_array + numpy_array"
   ]
  },
  {
   "cell_type": "markdown",
   "metadata": {},
   "source": [
    "Multiplying two arrays in this way, performs element-wise multiplication."
   ]
  },
  {
   "cell_type": "code",
   "execution_count": 8,
   "metadata": {},
   "outputs": [
    {
     "data": {
      "text/plain": [
       "array([ 5, 20])"
      ]
     },
     "execution_count": 8,
     "metadata": {},
     "output_type": "execute_result"
    }
   ],
   "source": [
    "np.array([1, 2]) * np.array([5, 10])"
   ]
  },
  {
   "cell_type": "markdown",
   "metadata": {},
   "source": [
    "Multidimensional lists and arrays can be created using lists of lists."
   ]
  },
  {
   "cell_type": "code",
   "execution_count": 9,
   "metadata": {},
   "outputs": [
    {
     "data": {
      "text/plain": [
       "array([[1, 0, 0, 1],\n",
       "       [0, 0, 0, 1],\n",
       "       [0, 1, 0, 1],\n",
       "       [0, 0, 0, 0]])"
      ]
     },
     "execution_count": 9,
     "metadata": {},
     "output_type": "execute_result"
    }
   ],
   "source": [
    "numpy_array = np.array([[1,0,0,1], [0,0,0,1], [0,1,0,1], [0,0,0,0]])\n",
    "numpy_array"
   ]
  },
  {
   "cell_type": "markdown",
   "metadata": {},
   "source": [
    "With multidimensional arrays, you can easily perform linear algebra."
   ]
  },
  {
   "cell_type": "code",
   "execution_count": 11,
   "metadata": {},
   "outputs": [
    {
     "name": "stdout",
     "output_type": "stream",
     "text": [
      "[[1 0 0 1]\n",
      " [0 0 0 0]\n",
      " [0 0 0 1]\n",
      " [0 0 0 0]]\n",
      "[[1 0 0 1]\n",
      " [0 0 0 1]\n",
      " [0 1 0 1]\n",
      " [0 0 0 0]]\n",
      "1.9318516525781366\n",
      "1\n",
      "[[1.-1.j 0.-1.j]\n",
      " [0.+0.j 1.+1.j]]\n",
      "[[1.+1.j 0.-0.j]\n",
      " [0.+1.j 1.-1.j]]\n"
     ]
    }
   ],
   "source": [
    "# Matrix product\n",
    "print(numpy_array @ numpy_array)\n",
    "print(numpy_array * numpy_array)\n",
    "\n",
    "# Norm of matrix\n",
    "print(np.linalg.norm(numpy_array, ord=2))\n",
    "print(np.trace(numpy_array))\n",
    "\n",
    "# Conjugate transpose of matrix\n",
    "complex_array = np.array([[1-1j, 0-1j], [0+0j, 1+1j]])\n",
    "print(complex_array)\n",
    "print(complex_array.T.conj())"
   ]
  },
  {
   "cell_type": "markdown",
   "metadata": {},
   "source": [
    "There are also several useful features that `numpy` provides."
   ]
  },
  {
   "cell_type": "code",
   "execution_count": 13,
   "metadata": {},
   "outputs": [
    {
     "name": "stdout",
     "output_type": "stream",
     "text": [
      "[[1. 0. 0. 0. 0.]\n",
      " [0. 1. 0. 0. 0.]\n",
      " [0. 0. 1. 0. 0.]\n",
      " [0. 0. 0. 1. 0.]\n",
      " [0. 0. 0. 0. 1.]]\n",
      "[0 2 2 0 1 2 1 2 2 1]\n",
      "[[0 0 0 0 0 1 1 1 1 1]\n",
      " [2 2 2 2 2 3 3 3 3 3]]\n"
     ]
    }
   ],
   "source": [
    "# Identity matrix\n",
    "I = np.eye(5)\n",
    "print(I)\n",
    "\n",
    "# Random 2x2 matrix\n",
    "rand_matrix = np.random.choice([0,1,2], size=10, p=[0.1, 0.5, 0.4])\n",
    "print(rand_matrix)\n",
    "\n",
    "# Repeat 2x2 matrix\n",
    "tiled_matrix = np.repeat([[0,1],[2,3]], repeats=5, axis=1)\n",
    "print(tiled_matrix)"
   ]
  },
  {
   "cell_type": "markdown",
   "metadata": {},
   "source": [
    "`numpy` also provides a random number generator. To pick between `0` and `1` with a uniform distribution you can do the following."
   ]
  },
  {
   "cell_type": "code",
   "execution_count": 14,
   "metadata": {},
   "outputs": [
    {
     "data": {
      "text/plain": [
       "array([0, 1, 1, 1, 1, 0, 0, 0, 1, 0, 1, 1, 0, 0, 0, 1, 1, 0, 1, 0])"
      ]
     },
     "execution_count": 14,
     "metadata": {},
     "output_type": "execute_result"
    }
   ],
   "source": [
    "np.random.choice([0,1], size=20)"
   ]
  },
  {
   "cell_type": "markdown",
   "metadata": {},
   "source": [
    "`matplotlib` ([User Guide](https://matplotlib.org/stable/users/index)) is the most popular plotting library in python. You can do many different things with it and it can be quite flexible."
   ]
  },
  {
   "cell_type": "code",
   "execution_count": 15,
   "metadata": {},
   "outputs": [
    {
     "data": {
      "text/plain": [
       "<matplotlib.legend.Legend at 0x11c44d0d0>"
      ]
     },
     "execution_count": 15,
     "metadata": {},
     "output_type": "execute_result"
    },
    {
     "data": {
      "image/png": "[encoded data removed]",
      "text/plain": [
       "<Figure size 800x400 with 1 Axes>"
      ]
     },
     "metadata": {},
     "output_type": "display_data"
    }
   ],
   "source": [
    "import matplotlib.pyplot as plt\n",
    "\n",
    "# Generate 100 random values between 0 and 1.\n",
    "x = range(100)\n",
    "y = np.random.random(100)\n",
    "\n",
    "plt.figure(figsize=(8,4))\n",
    "\n",
    "# Plot the 100 random values\n",
    "plt.plot(x, y, label=\"Random signal\")\n",
    "\n",
    "# Error bars to 1 standard deviation\n",
    "error = np.std(y)\n",
    "plt.fill_between(x, y - error, y + error, alpha=.3)\n",
    "\n",
    "# Plot the average of the 100 values\n",
    "plt.axhline(np.mean(y), linestyle=\"--\", color=\"black\", label=\"Average\")\n",
    "plt.xlabel(\"Sample index\")\n",
    "plt.ylabel(\"Value\")\n",
    "plt.legend()"
   ]
  },
  {
   "cell_type": "markdown",
   "metadata": {},
   "source": [
    "Now we may start taking a look at `qiskit` ([Documentation](https://docs.quantum-computing.ibm.com/)). The `qiskit` library consists of many tools for quantum computing developed mainly by IBM. The library itself has become very large and contains all kinds of features such as the ability to create a quantum circuit, computing expectation values for quantum mechanical systems, simulating noisy quantum devices and so on. For the purposes of this introduction we will focus mainly on the things necessary for the remainder of the course, which will involve creating quantum circuits, running them on simulators or real devices and analysing their results."
   ]
  },
  {
   "cell_type": "markdown",
   "metadata": {},
   "source": [
    "We will not dive too deep into the theory of quantum computing, but let us cover the essentials.\n",
    "\n",
    "A quantum computer consists of qubits, a two-level quantum system. On IBM devices they are implemented using superconductors, however there are other realisations of qubits. A qubit exhibits the properties of a quantum system, meaning it can be in superposition, entangled to other qubits and so on. In practice it is difficult to isolate a quantum computer from its envionment completely, which means that qubits will interact with the environment in some way. In quantum computing we consider these interacations as noise or errors as the quantum computer starts to behave in a way we wouldn't expect or want.\n",
    "\n",
    "In the framework of quantum computing, we use a set of operators or gates that can be applied to one or many qubits. Some common ones are the Pauli matrices (X, Y, Z) and the CNOT gate, which performs a Pauli X on a qubit based on the state of another. The CNOT gate entangles two qubits. We will cover more of these later in the course."
   ]
  },
  {
   "cell_type": "markdown",
   "metadata": {},
   "source": [
    "Let us first create a quantum circuit where we apply the Pauli X on all qubits. In a quantum circuit we assume that all qubits are initialised in the $|0\\rangle$ state. The action of the Pauli X on this state is to flip it to the $|1\\rangle$ state."
   ]
  },
  {
   "cell_type": "code",
   "execution_count": 16,
   "metadata": {},
   "outputs": [
    {
     "data": {
      "image/png": "[encoded data removed]",
      "text/plain": [
       "<Figure size 203.885x451.5 with 1 Axes>"
      ]
     },
     "execution_count": 16,
     "metadata": {},
     "output_type": "execute_result"
    }
   ],
   "source": [
    "from qiskit import QuantumCircuit\n",
    "\n",
    "qc = QuantumCircuit(5)\n",
    "qc.x([q for q in range(qc.num_qubits)])\n",
    "qc.draw(output='mpl')"
   ]
  },
  {
   "cell_type": "markdown",
   "metadata": {},
   "source": [
    "We can investigate the statevectors of circuits directly. For clarity, let us do this on a single qubit circuit."
   ]
  },
  {
   "cell_type": "code",
   "execution_count": 17,
   "metadata": {},
   "outputs": [
    {
     "name": "stdout",
     "output_type": "stream",
     "text": [
      "Statevector([1.+0.j, 0.+0.j],\n",
      "            dims=(2,))\n",
      "Statevector([0.+0.j, 1.+0.j],\n",
      "            dims=(2,))\n",
      "Statevector([ 0.70710678+0.j, -0.70710678+0.j],\n",
      "            dims=(2,))\n"
     ]
    }
   ],
   "source": [
    "from qiskit.quantum_info import Statevector\n",
    "\n",
    "qc = QuantumCircuit(1)\n",
    "sv = Statevector(qc)\n",
    "print(sv)\n",
    "\n",
    "qc.x(0)\n",
    "sv = Statevector(qc)\n",
    "print(sv)\n",
    "\n",
    "qc.h(0)\n",
    "sv = Statevector(qc)\n",
    "print(sv)"
   ]
  },
  {
   "cell_type": "markdown",
   "metadata": {},
   "source": [
    "Now let us run a circuit on a simulator. There are a few simulators we can pick from, even ones that simulator noise models based on noise that appears on IBM's real quantum devices. One can even make their own noise model. But for now, let us assume that the quantum computer is noiseless and we perform an ideal simulation of the quantum circuit."
   ]
  },
  {
   "cell_type": "code",
   "execution_count": 1,
   "metadata": {},
   "outputs": [
    {
     "data": {
      "text/plain": [
       "[AerSimulator('aer_simulator'),\n",
       " AerSimulator('aer_simulator_statevector'),\n",
       " AerSimulator('aer_simulator_density_matrix'),\n",
       " AerSimulator('aer_simulator_stabilizer'),\n",
       " AerSimulator('aer_simulator_matrix_product_state'),\n",
       " AerSimulator('aer_simulator_extended_stabilizer'),\n",
       " AerSimulator('aer_simulator_unitary'),\n",
       " AerSimulator('aer_simulator_superop'),\n",
       " QasmSimulator('qasm_simulator'),\n",
       " StatevectorSimulator('statevector_simulator'),\n",
       " UnitarySimulator('unitary_simulator')]"
      ]
     },
     "execution_count": 1,
     "metadata": {},
     "output_type": "execute_result"
    }
   ],
   "source": [
    "from qiskit_aer import AerProvider\n",
    "\n",
    "AerProvider().backends()"
   ]
  },
  {
   "cell_type": "markdown",
   "metadata": {},
   "source": [
    "Let us pick `aer_simulator`, which performs a noiseless statevector simulation, however simulates so-called shot noise. Shot noise arises due to the fact that "
   ]
  },
  {
   "cell_type": "code",
   "execution_count": 2,
   "metadata": {},
   "outputs": [],
   "source": [
    "backend = AerProvider().get_backend('aer_simulator')"
   ]
  },
  {
   "cell_type": "markdown",
   "metadata": {},
   "source": [
    "The simulator can also be created directly in the following way."
   ]
  },
  {
   "cell_type": "code",
   "execution_count": null,
   "metadata": {},
   "outputs": [],
   "source": [
    "from qiskit_aer import AerSimulator\n",
    "\n",
    "backend = AerSimulator()"
   ]
  },
  {
   "cell_type": "markdown",
   "metadata": {},
   "source": [
    "When creating circuits, one should usually take the hardware layout and qubit connectivity of the device into account. The simulator however, has full connectivity (all qubits can perform a cnot between each other) and the limit for the number of qubits is often determined by your computer. Let us create a simple 5-qubit quantum circuit, with a little bit of entanglement."
   ]
  },
  {
   "cell_type": "code",
   "execution_count": 20,
   "metadata": {},
   "outputs": [
    {
     "data": {
      "image/png": "[encoded data removed]",
      "text/plain": [
       "<Figure size 1082.05x535.111 with 1 Axes>"
      ]
     },
     "execution_count": 20,
     "metadata": {},
     "output_type": "execute_result"
    }
   ],
   "source": [
    "qc = QuantumCircuit(5)\n",
    "\n",
    "qc.rx(np.pi/4, 0)\n",
    "\n",
    "for target_qubit in range(1,5):\n",
    "    qc.cnot(target_qubit - 1, target_qubit)\n",
    "\n",
    "# Let us store the circuit without the measurement for later use\n",
    "qc_tmp = qc.copy()\n",
    "qc.measure_all()\n",
    "qc.draw(output='mpl')"
   ]
  },
  {
   "cell_type": "markdown",
   "metadata": {},
   "source": [
    "Now let us simulate the circuit with 1000 shots. That means that we produce the state in the quantum circuit and measure each 1000 times. Each time we measure, we can, in theory, obtain a different outcome based on the quantum state that is prepared. This experiment gives us a histogram of different outcomes, so the more shots we take, the more accurately the histogram will represent the expected probability distribution of the quantum state."
   ]
  },
  {
   "cell_type": "code",
   "execution_count": 21,
   "metadata": {},
   "outputs": [
    {
     "data": {
      "text/plain": [
       "{'11111': 1450, '00000': 8550}"
      ]
     },
     "execution_count": 21,
     "metadata": {},
     "output_type": "execute_result"
    }
   ],
   "source": [
    "job = backend.run(qc, shots=10000)\n",
    "result = job.result()\n",
    "result.get_counts()"
   ]
  },
  {
   "cell_type": "markdown",
   "metadata": {},
   "source": [
    "We can compute the expected probabilities in the following way."
   ]
  },
  {
   "cell_type": "code",
   "execution_count": 22,
   "metadata": {},
   "outputs": [
    {
     "data": {
      "text/plain": [
       "0.8535533905932737"
      ]
     },
     "execution_count": 22,
     "metadata": {},
     "output_type": "execute_result"
    }
   ],
   "source": [
    "# Explicitly construct the |00000> statevector\n",
    "zero = np.array([1,0])\n",
    "all_zeros_state = zero.copy()\n",
    "for qubit in range(qc.num_qubits - 1):\n",
    "    all_zeros_state = np.kron(all_zeros_state, zero)\n",
    "\n",
    "psi = Statevector(qc_tmp)\n",
    "psi_zero = Statevector(all_zeros_state)\n",
    "\n",
    "# Calculate |<00000|psi>|^2\n",
    "np.abs(psi.inner(psi_zero))**2"
   ]
  },
  {
   "cell_type": "code",
   "execution_count": 24,
   "metadata": {},
   "outputs": [
    {
     "data": {
      "text/plain": [
       "array([1, 0, 0, 0, 0, 0, 0, 0, 0, 0, 0, 0, 0, 0, 0, 0, 0, 0, 0, 0, 0, 0,\n",
       "       0, 0, 0, 0, 0, 0, 0, 0, 0, 0])"
      ]
     },
     "execution_count": 24,
     "metadata": {},
     "output_type": "execute_result"
    }
   ],
   "source": [
    "all_zeros_state"
   ]
  },
  {
   "cell_type": "code",
   "execution_count": 23,
   "metadata": {},
   "outputs": [
    {
     "data": {
      "text/plain": [
       "0.14644660940672624"
      ]
     },
     "execution_count": 23,
     "metadata": {},
     "output_type": "execute_result"
    }
   ],
   "source": [
    "# Explicitly construct the |11111> statevector\n",
    "one = np.array([0,1])\n",
    "all_ones_state = one.copy()\n",
    "for qubit in range(qc.num_qubits - 1):\n",
    "    all_ones_state = np.kron(all_ones_state, one)\n",
    "\n",
    "psi = Statevector(qc_tmp)\n",
    "psi_one = Statevector(all_ones_state)\n",
    "\n",
    "# Calculate |<11111|psi>|^2\n",
    "np.abs(psi.inner(psi_one))**2"
   ]
  },
  {
   "cell_type": "code",
   "execution_count": 25,
   "metadata": {},
   "outputs": [
    {
     "name": "stdout",
     "output_type": "stream",
     "text": [
      "Statevector([0.92387953+0.j        , 0.        +0.j        ,\n",
      "             0.        +0.j        , 0.        +0.j        ,\n",
      "             0.        +0.j        , 0.        +0.j        ,\n",
      "             0.        +0.j        , 0.        +0.j        ,\n",
      "             0.        +0.j        , 0.        +0.j        ,\n",
      "             0.        +0.j        , 0.        +0.j        ,\n",
      "             0.        +0.j        , 0.        +0.j        ,\n",
      "             0.        +0.j        , 0.        +0.j        ,\n",
      "             0.        +0.j        , 0.        +0.j        ,\n",
      "             0.        +0.j        , 0.        +0.j        ,\n",
      "             0.        +0.j        , 0.        +0.j        ,\n",
      "             0.        +0.j        , 0.        +0.j        ,\n",
      "             0.        +0.j        , 0.        +0.j        ,\n",
      "             0.        +0.j        , 0.        +0.j        ,\n",
      "             0.        +0.j        , 0.        +0.j        ,\n",
      "             0.        +0.j        , 0.        -0.38268343j],\n",
      "            dims=(2, 2, 2, 2, 2))\n"
     ]
    }
   ],
   "source": [
    "psi"
   ]
  },
  {
   "cell_type": "markdown",
   "metadata": {},
   "source": [
    "Let us try the same same experiment on a noisy simulator. These use noise models based on calibration data on IBM's real quantum devices. They are not completely accurate, but often do the job."
   ]
  },
  {
   "cell_type": "code",
   "execution_count": 26,
   "metadata": {},
   "outputs": [
    {
     "data": {
      "text/plain": [
       "{'11000': 2,\n",
       " '11110': 2,\n",
       " '11011': 8,\n",
       " '00100': 15,\n",
       " '00001': 4,\n",
       " '11111': 139,\n",
       " '11100': 2,\n",
       " '10111': 2,\n",
       " '01000': 7,\n",
       " '00010': 4,\n",
       " '10000': 7,\n",
       " '11101': 7,\n",
       " '00000': 801}"
      ]
     },
     "execution_count": 26,
     "metadata": {},
     "output_type": "execute_result"
    }
   ],
   "source": [
    "from qiskit_ibm_runtime.fake_provider import FakeHanoi\n",
    "\n",
    "backend = FakeHanoi()\n",
    "job = backend.run(qc, shots=1000)\n",
    "result = job.result()\n",
    "result.get_counts()"
   ]
  },
  {
   "cell_type": "markdown",
   "metadata": {},
   "source": [
    "As you can tell, now we obtain many different outcomes, which occured because some noise channels acted on the qubits!"
   ]
  },
  {
   "cell_type": "markdown",
   "metadata": {},
   "source": [
    "We can also try to run these circuits on real hardware. To do this please go to [https://quantum-computing.ibm.com/]() and create an account. Use the token you obtain from the website below to save your account."
   ]
  },
  {
   "cell_type": "code",
   "execution_count": 29,
   "metadata": {},
   "outputs": [],
   "source": [
    "from qiskit_ibm_runtime import QiskitRuntimeService\n",
    "\n",
    "QiskitRuntimeService.save_account(token=\"TOKEN\")"
   ]
  },
  {
   "cell_type": "markdown",
   "metadata": {},
   "source": [
    "To run the circuits, we follow similar steps to before with some differences. Also notice that one account has access to each quantum computer on IBM Quantum for 10 minutes per month. We will not force you to run experiments on these devices, but encourage you to do so if you wish!"
   ]
  },
  {
   "cell_type": "code",
   "execution_count": 30,
   "metadata": {},
   "outputs": [
    {
     "data": {
      "text/plain": [
       "[<IBMBackend('ibm_nairobi')>,\n",
       " <IBMBackend('ibm_perth')>,\n",
       " <IBMBackend('ibmq_qasm_simulator')>,\n",
       " <IBMBackend('simulator_extended_stabilizer')>,\n",
       " <IBMBackend('simulator_mps')>,\n",
       " <IBMBackend('simulator_stabilizer')>,\n",
       " <IBMBackend('simulator_statevector')>,\n",
       " <IBMBackend('ibm_lagos')>,\n",
       " <IBMBackend('ibm_brisbane')>]"
      ]
     },
     "execution_count": 30,
     "metadata": {},
     "output_type": "execute_result"
    }
   ],
   "source": [
    "from qiskit_ibm_runtime import Sampler\n",
    "\n",
    "service = QiskitRuntimeService()\n",
    "service.backends()"
   ]
  },
  {
   "cell_type": "code",
   "execution_count": 31,
   "metadata": {},
   "outputs": [
    {
     "name": "stdout",
     "output_type": "stream",
     "text": [
      "cl1nbon78f9fa1m0tdpg\n"
     ]
    }
   ],
   "source": [
    "backend = service.get_backend(\"ibmq_qasm_simulator\")\n",
    "sampler = Sampler(backend)\n",
    "\n",
    "job = sampler.run(qc, shots=1000)\n",
    "job_id = job.job_id()\n",
    "print(job_id)"
   ]
  },
  {
   "cell_type": "markdown",
   "metadata": {},
   "source": [
    "If you want to close the notebook while you wait in queue for the job to run, you can store the ID of your job. It is then easy to retrieve results from your job later on."
   ]
  },
  {
   "cell_type": "code",
   "execution_count": 32,
   "metadata": {},
   "outputs": [
    {
     "data": {
      "text/plain": [
       "SamplerResult(quasi_dists=[{31: 0.156, 0: 0.844}], metadata=[{'shots': 1000, 'circuit_metadata': {}}])"
      ]
     },
     "execution_count": 32,
     "metadata": {},
     "output_type": "execute_result"
    }
   ],
   "source": [
    "from qiskit_ibm_runtime import QiskitRuntimeService\n",
    "\n",
    "service = QiskitRuntimeService()\n",
    "job2 = service.job(job_id=job_id)\n",
    "job2.result()"
   ]
  },
  {
   "cell_type": "markdown",
   "metadata": {},
   "source": [
    "The results here are not in the form of counts, but quasi-probability distributions. This is because you can use some of the noise mitigation techniques that Qiskit offers on these results. These noise mitigation techniques may return small negative probabilities and for that it would not make sense to return counts."
   ]
  },
  {
   "cell_type": "code",
   "execution_count": 33,
   "metadata": {},
   "outputs": [
    {
     "data": {
      "text/plain": [
       "[{31: 0.156, 0: 0.844}]"
      ]
     },
     "execution_count": 33,
     "metadata": {},
     "output_type": "execute_result"
    }
   ],
   "source": [
    "job2.result().quasi_dists"
   ]
  }
 ],
 "metadata": {
  "kernelspec": {
   "display_name": "qiskit",
   "language": "python",
   "name": "python3"
  },
  "language_info": {
   "codemirror_mode": {
    "name": "ipython",
    "version": 3
   },
   "file_extension": ".py",
   "mimetype": "text/x-python",
   "name": "python",
   "nbconvert_exporter": "python",
   "pygments_lexer": "ipython3",
   "version": "3.11.9"
  },
  "orig_nbformat": 4
 },
 "nbformat": 4,
 "nbformat_minor": 2
}
